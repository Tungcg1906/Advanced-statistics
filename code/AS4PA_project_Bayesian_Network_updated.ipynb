{
 "cells": [
  {
   "cell_type": "markdown",
   "id": "funky-corpus",
   "metadata": {},
   "source": [
    "   # Learning the topology of a bayesian network  from a database of cases using the K2 algorithm"
   ]
  },
  {
   "cell_type": "markdown",
   "id": "generous-discovery",
   "metadata": {},
   "source": [
    "### Advanced Statistics for Physical Analysis -  Physics of Data (UniPD)"
   ]
  },
  {
   "cell_type": "markdown",
   "id": "boolean-sending",
   "metadata": {},
   "source": [
    "Student: Ehsan Goudarzi\n",
    "\n",
    "Student: Nguyen Xuan Tung - ID: 2005491\n",
    "\n",
    "Student: Vivek Kashyap Janardhana\n",
    "\n",
    "\n"
   ]
  },
  {
   "cell_type": "markdown",
   "id": "happy-making",
   "metadata": {},
   "source": [
    "-----------------------------------------------------------------------------------------------------------------------------"
   ]
  },
  {
   "cell_type": "markdown",
   "id": "recovered-separation",
   "metadata": {},
   "source": [
    "## Theoretical background"
   ]
  },
  {
   "cell_type": "markdown",
   "id": "graphic-lending",
   "metadata": {},
   "source": [
    "--------------------------------------------------------------------------------------------------------------------------"
   ]
  },
  {
   "cell_type": "markdown",
   "id": "hispanic-clearance",
   "metadata": {},
   "source": [
    "A Bayesian belief-network structure $B_s$ is a directed acyclic graph in which nodes represent domain variables and arcs between nodes represent probabilistic dependencies. A variable in a Bayesian belief-network structure may be continuous or discrete. Since the algorithm we want to implement is designed to work with discrete variables, we shall focus our discussion on the latter case.\n",
    "\n",
    "A Bayesian belief-network structure, $B_s$, is augmented by conditional probabilities, $B_p$,\n",
    "to form a Bayesian belief network $B$. Thus, $B$ = ($B_s, B_p$). For brevity, we call $B$ a belief\n",
    "network. For each node1 in a belief-network structure, there is a conditional-probability\n",
    "function that relates this node to its immediate predecessors (parents). We shall use $T_i$, to\n",
    "denote the parent nodes of variable $x_i$. If a node has no parents, then a prior-probability\n",
    "function, $P(x_i)$, is specified.  We shall use $\\pi_i$ to denote the parent nodes of variable $x_i$ ."
   ]
  },
  {
   "cell_type": "markdown",
   "id": "documented-manner",
   "metadata": {},
   "source": [
    "BBNs are capable of representing the probabilities over any discrete sample space since the probability of any sample point in that space can be computed from the probabilities in the belief network. The key feature of BBNs is their explicit representation of the conditional independence and dependence among events. In particular, it has been proved that the joint probability of any particular instantiation of all $n$ variables in a BBN can be calculated as follows:\n",
    "\n",
    "\\begin{equation*}\n",
    " P(X_1, X_2, ..., X_n) = \\prod_{i=1}^{n} P(X_i,\\pi_i) \n",
    "\\label{first_eq}\\tag{1}\n",
    "\\end{equation*}\n",
    "\n",
    "Where:\n",
    "\n",
    "$X_i$ represents the instantiation of variable $x_i$\n",
    "\n",
    "$\\pi_i$ represents the instantiation of the parents of $x_i$ ."
   ]
  },
  {
   "cell_type": "markdown",
   "id": "silent-bride",
   "metadata": {},
   "source": [
    "Let us now consider the problem of finding the most probable belief-network structure $B_s$. Let $D$ be a database of cases, $Z$ be the set of variables represented by $D$, and $B_{s_i}$ and\n",
    "$B_{s_j}$ be two belief-network structures containing exactly those variables that are in $Z$. In this\n",
    "section, we develop a method for computing $ \\frac{P(B_{s_i}|D)}{P(B_{s_j}|D)} $. By computing such\n",
    "ratios for pairs of belief-network structures, we can rank order a set of structures by their\n",
    "posterior probabilities. To calculate the ratio of posterior probabilities, we shall calculate\n",
    "$P(B_{s_i}, D)$ and $P(B_{s_j}, D)$ and use the following equivalence:\n",
    "\n",
    "\\begin{equation*}\n",
    "\\frac{P(B_{s_i}|D)}{P(B_{s_j}|D)} = \\frac{\\frac{P(B_{s_i},D)}{P(D)}}{\\frac{P(B_{s_j},D)}{P(D)}} = \\frac{P(B_{s_i},D)}{P(B_{s_j},D)}   \n",
    "\\label{}\\tag{2}\n",
    "\\end{equation*}\n",
    " \n",
    " and we can compute $P(B_{s_i},D)$ instead of the conditional probabilities. "
   ]
  },
  {
   "cell_type": "markdown",
   "id": "aquatic-sodium",
   "metadata": {},
   "source": [
    "                     "
   ]
  },
  {
   "cell_type": "markdown",
   "id": "previous-bookmark",
   "metadata": {},
   "source": [
    "We can get the $\\textbf{Theorem}$: \n",
    "\n",
    "Let $Z$ be a set of n variables, where a variable $x_i$ in $Z$ has $r_i$ possible value assignments: $(v_{i_1},...,v_{i_{r_i}})$. Let $D$ be a database of m cases, where each case contains a value assignment for each variable in $Z$. Each variable $x_i$ in $B_s$ has a set of parents, which we represent with a list of variables $\\pi _i$. Let $\\omega_{ij}$ denote $j^{th}$ unique instantiation of $\\pi_i$, relative to $D$. Suppose there are $q_i$ such unique instantiations of $\\pi_i$. Define $N_{ijk}$ to be the number of cases in $D$ in which variable $x_i$ has the value $v_{ij}$ and $\\pi_i$ is instantiated as $\\omega_{ij}$. Let:\n",
    "\n",
    "$$ N_{ij} = \\sum_{k=1}^{r_i} N_{ijk}  $$\n",
    "\n",
    "Suppose the following assumptions hold:\n",
    "\n",
    "1. The database variables in $Z$ are discrete.\n",
    "2. Cases occur independently, given a belief-network structure.\n",
    "3. There are no cases that have variables with missing values.\n",
    "4. Before observing $D$, we are indifferent regarding which numerical probabilities to assign to the belief network with structure $B_s$.\n",
    "\n",
    "It follows that:\n",
    "\n",
    "\\begin{equation*}\n",
    " P(B_s,D) = P(B_s) \\prod_{i=1}^{n} \\prod_{j=1}^{q_i} \\frac{(r_i-1)!}{(N_{ij}+r_i-1)!} \\prod_{k=1}^{r_i} N_{ijk}!  \n",
    " \\label{}\\tag{3}\n",
    " \\end{equation*}"
   ]
  },
  {
   "cell_type": "markdown",
   "id": "nonprofit-julian",
   "metadata": {},
   "source": [
    "The proof is reported in the appendix of G.F.Cooper and E. Herskovits , A Bayesian Method for the Induction of Probabilistic Networks from Data, Machine Learning  paper."
   ]
  },
  {
   "cell_type": "markdown",
   "id": "refined-government",
   "metadata": {},
   "source": [
    "                         "
   ]
  },
  {
   "cell_type": "markdown",
   "id": "rational-briefs",
   "metadata": {},
   "source": [
    "Firstly, to reduce the time complexity of the method Cooper and Herskovits introduced some additional assumptions and conditions to simplify the problem. The complexity of the task, however, remains exponential. Thus, the authors also realized a modified algorithm to construct a heuristic method with polynomial time complexity."
   ]
  },
  {
   "cell_type": "markdown",
   "id": "opposite-palace",
   "metadata": {},
   "source": [
    "#### Exact method \n",
    "\n",
    "##### 1. Ordering of nodes\n",
    "\n",
    "First of all let's assume, that we can specify an ordering on all $n$ variables such that, if $x_i$ precedes $x_j$ in the ordering, then we do not allow structures in which there is an arc from $x_j$ to $x_i$. Given such an ordering as a constraint, there remain $2^{\\binom{n}{2}}= 2^{\\frac{n(n-1)}{2}}$ possible $B_s$. For large $n$, it is still not feasible to apply equation (2) for each of them.\n",
    "\n",
    "##### 2. Equal priors\n",
    "\n",
    "In addition to a node ordering, the authors also assumed equal priors on $B_s$. That is, initially, before the observation of $D$, we assume that all structures are equally likely. In that case, we obtain:\n",
    "\n",
    "\\begin{equation*}\n",
    "P(B_s,D) = c \\prod_{i=1}^{n} \\prod_{j=1}^{q_i} \\frac{(r_i-1)!}{(N_{ij}+r_i-1)!} \\prod_{k=1}^{r_i} N_{ijk}!  \n",
    "\\label{}\\tag{4}\n",
    "\\end{equation*}\n",
    "\n",
    "where c is the constant prior probability $P(B_s)$, for each $B_s$. Thus, to maximize equation (4), we need only to find the parent set of each variable that maximizes the second inner product.\n",
    "\n",
    "\\begin{equation*}\n",
    "max_{B_s}[P(B_s,D)] = c \\prod_{i=1}^{n} max_{\\pi_i}\\left[ \\prod_{j=1}^{q_i} \\frac{(r_i-1)!}{(N_{ij}+r_i-1)!} \\prod_{k=1}^{r_i} N_{ijk}! \\right] \n",
    "\\label{}\\tag{5}\n",
    "\\end{equation*}\n",
    "\n",
    "##### 3. Upper limit on number of parents\n",
    "\n",
    "Finally, to further improve the time complexity of computing eq.(5) one can assume that a node can have at most $u$ parents."
   ]
  },
  {
   "cell_type": "markdown",
   "id": "promotional-jackson",
   "metadata": {},
   "source": [
    "#### Euristic method: the K2 algorithm\n",
    "\n",
    "Cooper and Herskovits  proposed one heuristic-search method, among many possibilities, for maximizing\n",
    "$P(B_s, D)$: the $\\textbf{K2 algorithm}$. We shall use eq.(5) as our starting point, with the attendant assumptions\n",
    "that we have an ordering on the domain variables and that, a priori, all structures are considered equally likely. We shall modify the maximization operation on the right of equation (5) to use a greedy-search method. In particular, we use an algorithm that begins by making the assumption that a node has no parents, and then adds incrementally that parent\n",
    "whose addition most increases the probability of the resulting structure. \n",
    "\n",
    "Starting from eq.(5) with all the assumptions mentioned so far, we can use the following function to quantify the probability of the database $D$ given that the parents of $x_i$ are $\\pi_i$:\n",
    "\n",
    "\\begin{equation*}\n",
    "g(i,\\pi) = \\prod_{j=1}^{q_i} \\frac{(r_i-1)!}{(N_{ij}+r_i-1)!} \\prod_{k=1}^{r_i} N_{ijk}!\n",
    "\\label{}\\tag{6}\n",
    "\\end{equation*}\n",
    "\n",
    "where the $N_{ijk}$ are computed relative to ribeing the parents of xiand relative to a database $D$, which we leave implicit."
   ]
  },
  {
   "cell_type": "markdown",
   "id": "fifth-harbor",
   "metadata": {},
   "source": [
    "The algorithm can be implemented as follows:"
   ]
  },
  {
   "cell_type": "raw",
   "id": "unnecessary-veteran",
   "metadata": {},
   "source": [
    "procedure K2;\n",
    "#{Input: A set of n nodes, an ordering on the nodes, an upper bound u on the\n",
    "#number of parents a node may have, and a database D containing m cases.}\n",
    "#{Output: For each node, a printout of the parents of the node.}\n",
    "for i:= 1 to n do\n",
    "   𝜋𝑖  := Ø;\n",
    "   P_old := f(i, 𝜋i); #{This function is computed using Equation 7}.\n",
    "   OKToProceed := TRUE;\n",
    "   While OKToProceed and |𝜋i| < u do\n",
    "     let z be the node in Pred(xi) - 𝜋i that maximizes f(i, 𝜋i Ս {z});\n",
    "     P_new := f(i, 𝜋i Ս {z});\n",
    "     if P_new > P_old then\n",
    "       P_old := P_new;\n",
    "       𝜋i := 𝜋i Ս {z};\n",
    "     else OKToProceed := FALSE;\n",
    "   end {while};\n",
    "   write('Node:', xi, 'Parent of xi:', 𝜋i);\n",
    "  end {for};\n",
    " end {K2};"
   ]
  },
  {
   "cell_type": "markdown",
   "id": "olive-personal",
   "metadata": {},
   "source": [
    "### --------------------------------------------------------------------------------------------------------------------------------------------------"
   ]
  },
  {
   "cell_type": "markdown",
   "id": "interracial-spray",
   "metadata": {},
   "source": [
    "## Implementation"
   ]
  },
  {
   "cell_type": "markdown",
   "id": "established-world",
   "metadata": {},
   "source": [
    "### Load the library"
   ]
  },
  {
   "cell_type": "code",
   "execution_count": 1,
   "id": "conceptual-brighton",
   "metadata": {},
   "outputs": [],
   "source": [
    "#if (!requireNamespace(\"BiocManager\", quietly = TRUE))\n",
    "#    install.packages(\"BiocManager\")\n",
    "#BiocManager::install(c(\"graph\", \"RBGL\", \"Rgraphviz\"))\n",
    "#install.packages(\"https://www.bnlearn.com/releases/bnlearn_latest.tar.gz\", repos = NULL, type = \"source\")\n",
    "#install.packages('bnstruct')\n",
    "#install.packages('ggpubr')"
   ]
  },
  {
   "cell_type": "code",
   "execution_count": 2,
   "id": "retired-portugal",
   "metadata": {},
   "outputs": [
    {
     "name": "stderr",
     "output_type": "stream",
     "text": [
      "Loading required package: bitops\n",
      "\n",
      "Loading required package: igraph\n",
      "\n",
      "\n",
      "Attaching package: 'igraph'\n",
      "\n",
      "\n",
      "The following objects are masked from 'package:stats':\n",
      "\n",
      "    decompose, spectrum\n",
      "\n",
      "\n",
      "The following object is masked from 'package:base':\n",
      "\n",
      "    union\n",
      "\n",
      "\n",
      "\n",
      "Attaching package: 'bnlearn'\n",
      "\n",
      "\n",
      "The following objects are masked from 'package:bnstruct':\n",
      "\n",
      "    impute, read.bif, read.dsc, read.net, shd, write.dsc\n",
      "\n",
      "\n",
      "The following objects are masked from 'package:igraph':\n",
      "\n",
      "    as.igraph, compare, degree, subgraph\n",
      "\n",
      "\n",
      "Loading required package: graph\n",
      "\n",
      "Loading required package: BiocGenerics\n",
      "\n",
      "\n",
      "Attaching package: 'BiocGenerics'\n",
      "\n",
      "\n",
      "The following object is masked from 'package:bnlearn':\n",
      "\n",
      "    score\n",
      "\n",
      "\n",
      "The following objects are masked from 'package:igraph':\n",
      "\n",
      "    normalize, path, union\n",
      "\n",
      "\n",
      "The following objects are masked from 'package:stats':\n",
      "\n",
      "    IQR, mad, sd, var, xtabs\n",
      "\n",
      "\n",
      "The following objects are masked from 'package:base':\n",
      "\n",
      "    anyDuplicated, append, as.data.frame, basename, cbind, colnames,\n",
      "    dirname, do.call, duplicated, eval, evalq, Filter, Find, get, grep,\n",
      "    grepl, intersect, is.unsorted, lapply, Map, mapply, match, mget,\n",
      "    order, paste, pmax, pmax.int, pmin, pmin.int, Position, rank,\n",
      "    rbind, Reduce, rownames, sapply, setdiff, sort, table, tapply,\n",
      "    union, unique, unsplit, which.max, which.min\n",
      "\n",
      "\n",
      "\n",
      "Attaching package: 'graph'\n",
      "\n",
      "\n",
      "The following objects are masked from 'package:bnlearn':\n",
      "\n",
      "    degree, nodes, nodes<-\n",
      "\n",
      "\n",
      "The following objects are masked from 'package:igraph':\n",
      "\n",
      "    degree, edges, intersection\n",
      "\n",
      "\n",
      "Loading required package: grid\n",
      "\n",
      "\n",
      "Attaching package: 'Rgraphviz'\n",
      "\n",
      "\n",
      "The following object is masked from 'package:bnstruct':\n",
      "\n",
      "    name\n",
      "\n",
      "\n",
      "Registered S3 method overwritten by 'GGally':\n",
      "  method from   \n",
      "  +.gg   ggplot2\n",
      "\n",
      "Loading required package: statnet.common\n",
      "\n",
      "\n",
      "Attaching package: 'statnet.common'\n",
      "\n",
      "\n",
      "The following object is masked from 'package:BiocGenerics':\n",
      "\n",
      "    order\n",
      "\n",
      "\n",
      "The following objects are masked from 'package:base':\n",
      "\n",
      "    attr, order\n",
      "\n",
      "\n",
      "Loading required package: network\n",
      "\n",
      "\n",
      "'network' 1.17.1 (2021-06-12), part of the Statnet Project\n",
      "* 'news(package=\"network\")' for changes since last version\n",
      "* 'citation(\"network\")' for citation information\n",
      "* 'https://statnet.org' for help, support, and other information\n",
      "\n",
      "\n",
      "\n",
      "Attaching package: 'network'\n",
      "\n",
      "\n",
      "The following objects are masked from 'package:igraph':\n",
      "\n",
      "    %c%, %s%, add.edges, add.vertices, delete.edges, delete.vertices,\n",
      "    get.edge.attribute, get.edges, get.vertex.attribute, is.bipartite,\n",
      "    is.directed, list.edge.attributes, list.vertex.attributes,\n",
      "    set.edge.attribute, set.vertex.attribute\n",
      "\n",
      "\n",
      "Registered S3 methods overwritten by 'sna':\n",
      "  method   from   \n",
      "  plot.bn  bnlearn\n",
      "  print.bn bnlearn\n",
      "\n",
      "sna: Tools for Social Network Analysis\n",
      "Version 2.6 created on 2020-10-5.\n",
      "copyright (c) 2005, Carter T. Butts, University of California-Irvine\n",
      " For citation information, type citation(\"sna\").\n",
      " Type help(package=\"sna\") to get started.\n",
      "\n",
      "\n",
      "\n",
      "Attaching package: 'sna'\n",
      "\n",
      "\n",
      "The following object is masked from 'package:graph':\n",
      "\n",
      "    degree\n",
      "\n",
      "\n",
      "The following object is masked from 'package:bnlearn':\n",
      "\n",
      "    degree\n",
      "\n",
      "\n",
      "The following object is masked from 'package:bnstruct':\n",
      "\n",
      "    bn\n",
      "\n",
      "\n",
      "The following objects are masked from 'package:igraph':\n",
      "\n",
      "    betweenness, bonpow, closeness, components, degree, dyad.census,\n",
      "    evcent, hierarchy, is.connected, neighborhood, triad.census\n",
      "\n",
      "\n",
      "\n",
      "Attaching package: 'purrr'\n",
      "\n",
      "\n",
      "The following objects are masked from 'package:igraph':\n",
      "\n",
      "    compose, simplify\n",
      "\n",
      "\n",
      "\n",
      "Attaching package: 'dplyr'\n",
      "\n",
      "\n",
      "The following object is masked from 'package:graph':\n",
      "\n",
      "    union\n",
      "\n",
      "\n",
      "The following objects are masked from 'package:BiocGenerics':\n",
      "\n",
      "    combine, intersect, setdiff, union\n",
      "\n",
      "\n",
      "The following objects are masked from 'package:igraph':\n",
      "\n",
      "    as_data_frame, groups, union\n",
      "\n",
      "\n",
      "The following objects are masked from 'package:stats':\n",
      "\n",
      "    filter, lag\n",
      "\n",
      "\n",
      "The following objects are masked from 'package:base':\n",
      "\n",
      "    intersect, setdiff, setequal, union\n",
      "\n",
      "\n",
      "\n",
      "Attaching package: 'combinat'\n",
      "\n",
      "\n",
      "The following object is masked from 'package:utils':\n",
      "\n",
      "    combn\n",
      "\n",
      "\n",
      "------------------------------------------------------------------------------\n",
      "\n",
      "You have loaded plyr after dplyr - this is likely to cause problems.\n",
      "If you need functions from both plyr and dplyr, please load plyr first, then dplyr:\n",
      "library(plyr); library(dplyr)\n",
      "\n",
      "------------------------------------------------------------------------------\n",
      "\n",
      "\n",
      "Attaching package: 'plyr'\n",
      "\n",
      "\n",
      "The following objects are masked from 'package:dplyr':\n",
      "\n",
      "    arrange, count, desc, failwith, id, mutate, rename, summarise,\n",
      "    summarize\n",
      "\n",
      "\n",
      "The following object is masked from 'package:purrr':\n",
      "\n",
      "    compact\n",
      "\n",
      "\n",
      "The following object is masked from 'package:network':\n",
      "\n",
      "    is.discrete\n",
      "\n",
      "\n",
      "The following object is masked from 'package:graph':\n",
      "\n",
      "    join\n",
      "\n",
      "\n",
      "The following object is masked from 'package:ggpubr':\n",
      "\n",
      "    mutate\n",
      "\n",
      "\n",
      "\n",
      "Attaching package: 'data.table'\n",
      "\n",
      "\n",
      "The following objects are masked from 'package:dplyr':\n",
      "\n",
      "    between, first, last\n",
      "\n",
      "\n",
      "The following object is masked from 'package:purrr':\n",
      "\n",
      "    transpose\n",
      "\n",
      "\n"
     ]
    }
   ],
   "source": [
    "library('bnstruct')\n",
    "library('bnlearn')\n",
    "library('Rcpp')\n",
    "library('ggplot2')\n",
    "library('ggpubr')\n",
    "library('igraph')\n",
    "library('intergraph')\n",
    "library(\"Rgraphviz\")\n",
    "library('GGally')\n",
    "library('sna')\n",
    "library('purrr')\n",
    "library('dplyr')\n",
    "library('combinat')\n",
    "library('plyr')\n",
    "library('data.table')"
   ]
  },
  {
   "cell_type": "markdown",
   "id": "russian-railway",
   "metadata": {},
   "source": [
    "### Assistant function of K2 algorithm"
   ]
  },
  {
   "cell_type": "markdown",
   "id": "blind-rotation",
   "metadata": {},
   "source": [
    "-----------------------------------------------------------------------------------------------------------------------------"
   ]
  },
  {
   "cell_type": "markdown",
   "id": "anonymous-newton",
   "metadata": {},
   "source": [
    "$\\textbf{r function}:$ \n",
    "\n",
    "input: \n",
    "- Name of datatable storing the database\n",
    "\n",
    "output: \n",
    "- Vector containing the cardinality of the set of all possible instantiations for each node.\n",
    "\n",
    "r function takes as input the datatable containing our database $D$ and determines, for each node, the number of unique values assumed throughout all cases of the database $D$.\n"
   ]
  },
  {
   "cell_type": "code",
   "execution_count": 3,
   "id": "aboriginal-advisory",
   "metadata": {},
   "outputs": [],
   "source": [
    "r <- function(df){\n",
    "    return(rapply(df, function(x)length(unique(x))) %>% unname)\n",
    "}"
   ]
  },
  {
   "cell_type": "markdown",
   "id": "speaking-adult",
   "metadata": {},
   "source": [
    "-------------------------------------------------------------------------------------------------------------------------"
   ]
  },
  {
   "cell_type": "markdown",
   "id": "voluntary-freeze",
   "metadata": {},
   "source": [
    "$\\textbf{param function}:$\n",
    "\n",
    "input: \n",
    "\n",
    "- df: Name of datatable storing the database\n",
    "- par: string with the name of the parent of the considered node\n",
    "- son: string with the name of the considered node\n",
    "- flog: bool set to FALSE for the normal computation whereas TRUE is set to work with the logversion of the code\n",
    "\n",
    "output: \n",
    "\n",
    "- alpha = $ \\prod_{j=1}^{q_i} \\prod_{k=1}^{r_i} N_{ijk}! $ \n",
    "\n",
    "- $ N_{ij} = \\sum_{k=1}^{r_i} N_{ijk} $\n",
    " \n",
    "\n",
    "param function takes as input the datatable containing the database $D$ and then, considering the parent-son pair given as input, it computes the frequency in $D$ of all possible instantiations. Then it computes and return alpha. It also performs calculation over the possible values of variables in node (k = 1,..., $r_i$ where $r_i$ is determined in function r, then it returin $N_{ij}$"
   ]
  },
  {
   "cell_type": "code",
   "execution_count": 4,
   "id": "rubber-consideration",
   "metadata": {},
   "outputs": [],
   "source": [
    "params <- function(df, par, son, flog=TRUE){\n",
    "\n",
    "    tmp  <- df[, c(par, son), with=FALSE] %>% table %>% as.data.frame\n",
    "    if (!identical(par,NULL)) for (i in length(par):1) tmp <- tmp[order(tmp[, i]),]\n",
    "\n",
    "    freq <- tmp %>% pull(Freq)\n",
    "\n",
    "    r_i  <- r(df)[which(colnames(data)==son)]\n",
    "    if (flog) alpha <- freq %>% lfactorial %>% sum else alpha <- freq %>% factorial %>% prod\n",
    "    \n",
    "    N_j  <- freq %>% matrix(, nrow = r_i) %>% colSums\n",
    "\n",
    "    return(c(alpha, N_j))\n",
    "}"
   ]
  },
  {
   "cell_type": "markdown",
   "id": "involved-eight",
   "metadata": {},
   "source": [
    "---------------------------------------------------------------------------------------------------------------------------"
   ]
  },
  {
   "cell_type": "markdown",
   "id": "interim-worst",
   "metadata": {},
   "source": [
    "$\\textbf{f function}:$\n",
    "\n",
    "input:\n",
    "- par: Known parents of the node considered\n",
    "- df: Name of datatable storing the database\n",
    "- i: Index of considered node\n",
    "- nod: List of all nodes of the network\n",
    "- flog: bool set to FALSE for the normal computation whereas TRUE is set to work with the logversion of the code\n",
    "\n",
    "output: \n",
    "- $g(i,\\pi)$\n",
    "\n",
    "f funnction computed the probability of the assumed connections for our node given the database $D$.\n",
    "\n",
    "\n",
    "\n",
    "\n",
    "\n"
   ]
  },
  {
   "cell_type": "code",
   "execution_count": 5,
   "id": "integrated-commodity",
   "metadata": {},
   "outputs": [],
   "source": [
    "f <- function(par, df, i, nod, flog=TRUE){\n",
    "    son   <- nod[i]\n",
    "    aN    <- params(df, par, son, flog)\n",
    "    alpha <- aN[1]\n",
    "    Ns    <- aN[-1]\n",
    "    r_i   <- r(df)[i]\n",
    "    \n",
    "    if (flog){\n",
    "        num <- (lfactorial(r_i-1))*length(Ns)\n",
    "        den <- lfactorial(Ns+r_i-1) %>% sum\n",
    "        \n",
    "        return(num - den + alpha)\n",
    "    } else{\n",
    "        num <- (factorial(r_i-1))^length(Ns)\n",
    "        den <- factorial(Ns+r_i-1) %>% prod\n",
    "        \n",
    "        return(num*alpha/den) \n",
    "    }\n",
    "}"
   ]
  },
  {
   "cell_type": "markdown",
   "id": "instrumental-pittsburgh",
   "metadata": {},
   "source": [
    "--------------------------------------------------------------------------------------------------------------------------"
   ]
  },
  {
   "cell_type": "markdown",
   "id": "stupid-elizabeth",
   "metadata": {},
   "source": [
    "### K2 algorithm"
   ]
  },
  {
   "cell_type": "markdown",
   "id": "phantom-prayer",
   "metadata": {},
   "source": [
    "input: \n",
    "- nodes: Vector of all names of the nodes of the network\n",
    "- level: Vector codifying the ordering of the nodes\n",
    "- u: Upper limit for the number of possible parents of a node\n",
    "- df: Name of datatable storing the dataset\n",
    "- flog: bool set to FALSE for the normal computation and TRUE is set to work with the logversion of the code\n",
    "\n",
    "output: \n",
    "- printout of all parents of each node of the network\n",
    "- printout of the global score of the final network (determined by summing over all nodes the final values of $g(i,\\pi)$ \n",
    "- adj: the resulting adjacency matrix\n",
    "\n",
    "This function implements the K2 algorithm in a general way: the input network can have an arbitrary number of nodes, with no restrictions on the cardinality of the set of values the node can have. The function returns the adjacency matrix, which stores information about son-parents groups in a compact way as follows:\n",
    "\n",
    "$$ adj_{ij} = \\left\\{ \\begin{array}{rcl}\n",
    "1 & \\mbox{if $j^{th}$ node is a parent of $i^{th}$ node} \n",
    "\\\\ 0 & \\mbox{otherwise}\n",
    "\\end{array}\\right. $$"
   ]
  },
  {
   "cell_type": "code",
   "execution_count": 6,
   "id": "alleged-companion",
   "metadata": {},
   "outputs": [],
   "source": [
    "K2 <- function(nodes, level, u, df, flog=TRUE){\n",
    "    n     <- length(nodes)\n",
    "    score <- double(length(nodes))\n",
    "    adj   <- matrix(0,nrow=n,ncol=n)\n",
    "    rownames(adj) <- nodes; colnames(adj) <- nodes\n",
    "    for (i in 1:n){\n",
    "#         cat('Iteration:',i,'\\n')\n",
    "        p_i     <- NULL\n",
    "        P_old   <- f(p_i, df, i, nodes, flog)\n",
    "        proceed <- TRUE\n",
    "        \n",
    "        t <- data.table(cbind(level, nodes))\n",
    "        \n",
    "        while (proceed & length(p_i) < u){\n",
    "            pred    <- t[t$level < t$level[i]] %>% pull(nodes)\n",
    "            if (identical(pred, character(0)) | identical(pred, p_i)) break\n",
    "            z_cand  <- pred[! pred %in% p_i]\n",
    "            \n",
    "            if (identical(p_i, NULL)){\n",
    "                args    <- z_cand \n",
    "                fvalues <- map(args, f, df=data, i=i, nod=nodes, flog=flog) %>% unlist\n",
    "            } else if (!identical(p_i, NULL) & length(z_cand)==1){\n",
    "                args    <- map(z_cand, c, p_i) %>% unlist\n",
    "                fvalues <- f(args, data, i, nodes, flog)\n",
    "                args    <- list(args)\n",
    "            } else{\n",
    "                args    <- map(z_cand, c, p_i)\n",
    "                fvalues <- map(args, f, df=data, i=i, nod=nodes, flog=flog) %>% unlist\n",
    "            }\n",
    "            \n",
    "            P_new   <- fvalues %>% max\n",
    "            par_new <- args[which(fvalues==P_new)] %>% unlist\n",
    "            \n",
    "            if (P_new > P_old){\n",
    "                P_old      <- P_new\n",
    "                p_i        <- par_new\n",
    "            } else proceed <- FALSE      \n",
    "        }\n",
    "        \n",
    "        score[i]   <- P_old\n",
    "        adj[i,p_i] <- 1\n",
    "        \n",
    "        x_i <- t$nodes[i]\n",
    "        if (identical(p_i, NULL)) printout <- 'Ø' else printout <- p_i\n",
    "        \n",
    "        cat('Node:\\t',x_i,', Parents of:',x_i,'\\t  :pi ',i,'=',printout,'\\n')\n",
    "    }\n",
    "    \n",
    "    return(adj)\n",
    "}"
   ]
  },
  {
   "cell_type": "markdown",
   "id": "legislative-inventory",
   "metadata": {},
   "source": [
    "----------------------------------------------------------------------------------------------------------------------------"
   ]
  },
  {
   "cell_type": "code",
   "execution_count": 7,
   "id": "editorial-width",
   "metadata": {},
   "outputs": [],
   "source": [
    "plotGraph <- function(adj, size, ls, title){\n",
    "    ggnet2(network(adj), size=size, label=TRUE, label.size=ls,node.color ='grey95',\n",
    "           edge.lty = \"solid\",edge.size = 0.25,\n",
    "           arrow.size=8, arrow.gap=0.05, mode = \"fruchtermanreingold\") + labs(title=title)\n",
    "}"
   ]
  },
  {
   "cell_type": "markdown",
   "id": "forbidden-referral",
   "metadata": {},
   "source": [
    "## Testing the performance of algorithm with dataset "
   ]
  },
  {
   "cell_type": "markdown",
   "id": "brutal-passage",
   "metadata": {},
   "source": [
    "### Ruiz network"
   ]
  },
  {
   "cell_type": "markdown",
   "id": "offshore-judgment",
   "metadata": {},
   "source": [
    " The dataset is taken from the paper: C. Ruiz, Illustration of the K2 Algorithm for learning Bayes Net Structures, http://web.cs.wpi.edu/~cs539/s11/Projects/k2_algorithm.pdf "
   ]
  },
  {
   "cell_type": "markdown",
   "id": "committed-ireland",
   "metadata": {},
   "source": [
    "This simple dataset only has three nodes: $x_1$, $x_2$, and $x_3$, and 10 cases. Each node can only assume two values:0 and 1, i.e the cardinality of every node is $r_1 = 2$. The ordering provided to the algorithm is ($x_1$, $x_2$, $x_3$).\n",
    "\n",
    "The expected topology is:\n",
    "\n",
    "$$x_1 \\rightarrow x_2 \\rightarrow x_3$$"
   ]
  },
  {
   "cell_type": "code",
   "execution_count": 8,
   "id": "christian-north",
   "metadata": {},
   "outputs": [
    {
     "data": {
      "text/html": [
       "<table class=\"dataframe\">\n",
       "<caption>A data.table: 10 × 3</caption>\n",
       "<thead>\n",
       "\t<tr><th scope=col>x1</th><th scope=col>x2</th><th scope=col>x3</th></tr>\n",
       "\t<tr><th scope=col>&lt;dbl&gt;</th><th scope=col>&lt;dbl&gt;</th><th scope=col>&lt;dbl&gt;</th></tr>\n",
       "</thead>\n",
       "<tbody>\n",
       "\t<tr><td>1</td><td>0</td><td>0</td></tr>\n",
       "\t<tr><td>1</td><td>1</td><td>1</td></tr>\n",
       "\t<tr><td>0</td><td>0</td><td>1</td></tr>\n",
       "\t<tr><td>1</td><td>1</td><td>1</td></tr>\n",
       "\t<tr><td>0</td><td>0</td><td>0</td></tr>\n",
       "\t<tr><td>0</td><td>1</td><td>1</td></tr>\n",
       "\t<tr><td>1</td><td>1</td><td>1</td></tr>\n",
       "\t<tr><td>0</td><td>0</td><td>0</td></tr>\n",
       "\t<tr><td>1</td><td>1</td><td>1</td></tr>\n",
       "\t<tr><td>0</td><td>0</td><td>0</td></tr>\n",
       "</tbody>\n",
       "</table>\n"
      ],
      "text/latex": [
       "A data.table: 10 × 3\n",
       "\\begin{tabular}{lll}\n",
       " x1 & x2 & x3\\\\\n",
       " <dbl> & <dbl> & <dbl>\\\\\n",
       "\\hline\n",
       "\t 1 & 0 & 0\\\\\n",
       "\t 1 & 1 & 1\\\\\n",
       "\t 0 & 0 & 1\\\\\n",
       "\t 1 & 1 & 1\\\\\n",
       "\t 0 & 0 & 0\\\\\n",
       "\t 0 & 1 & 1\\\\\n",
       "\t 1 & 1 & 1\\\\\n",
       "\t 0 & 0 & 0\\\\\n",
       "\t 1 & 1 & 1\\\\\n",
       "\t 0 & 0 & 0\\\\\n",
       "\\end{tabular}\n"
      ],
      "text/markdown": [
       "\n",
       "A data.table: 10 × 3\n",
       "\n",
       "| x1 &lt;dbl&gt; | x2 &lt;dbl&gt; | x3 &lt;dbl&gt; |\n",
       "|---|---|---|\n",
       "| 1 | 0 | 0 |\n",
       "| 1 | 1 | 1 |\n",
       "| 0 | 0 | 1 |\n",
       "| 1 | 1 | 1 |\n",
       "| 0 | 0 | 0 |\n",
       "| 0 | 1 | 1 |\n",
       "| 1 | 1 | 1 |\n",
       "| 0 | 0 | 0 |\n",
       "| 1 | 1 | 1 |\n",
       "| 0 | 0 | 0 |\n",
       "\n"
      ],
      "text/plain": [
       "   x1 x2 x3\n",
       "1  1  0  0 \n",
       "2  1  1  1 \n",
       "3  0  0  1 \n",
       "4  1  1  1 \n",
       "5  0  0  0 \n",
       "6  0  1  1 \n",
       "7  1  1  1 \n",
       "8  0  0  0 \n",
       "9  1  1  1 \n",
       "10 0  0  0 "
      ]
     },
     "metadata": {},
     "output_type": "display_data"
    }
   ],
   "source": [
    "data  <- data.table(matrix(c(1,0,0,1,1,1,0,0,1,1,1,1,0,0,0,0,1,1,1,1,1,0,0,0,1,1,1,0,0,0), 10,3, byrow=TRUE))\n",
    "nodes <- c('x1','x2','x3')\n",
    "colnames(data) <- nodes\n",
    "\n",
    "upbound <- 2\n",
    "#r_i <- r(data)\n",
    "\n",
    "data"
   ]
  },
  {
   "cell_type": "code",
   "execution_count": 9,
   "id": "brave-liberty",
   "metadata": {},
   "outputs": [
    {
     "name": "stdout",
     "output_type": "stream",
     "text": [
      "Node:\t x1 , Parents of: x1 \t  :pi  1 = Ø \n",
      "Node:\t x2 , Parents of: x2 \t  :pi  2 = x1 \n",
      "Node:\t x3 , Parents of: x3 \t  :pi  3 = x2 \n",
      "------------------------------------------------------------------------------------\n",
      "K2 algorithm takes: 0.1645598 sec \n"
     ]
    }
   ],
   "source": [
    "start.time <- Sys.time()\n",
    "level <- c(1,2,3)\n",
    "adj   <- K2(nodes, level, upbound, data)\n",
    "end.time <- Sys.time()\n",
    "cat(\"------------------------------------------------------------------------------------\\n\")\n",
    "cat(\"K2 algorithm takes:\",end.time - start.time,\"sec \\n\")"
   ]
  },
  {
   "cell_type": "code",
   "execution_count": 10,
   "id": "virgin-consultation",
   "metadata": {},
   "outputs": [
    {
     "data": {
      "image/png": "[encoded data removed]",
      "text/plain": [
       "plot without title"
      ]
     },
     "metadata": {
      "image/png": {
       "height": 420,
       "width": 420
      }
     },
     "output_type": "display_data"
    }
   ],
   "source": [
    "plotGraph(adj, 20, 5, title='Ruiz dataset: K2 implementation')"
   ]
  },
  {
   "cell_type": "markdown",
   "id": "adjacent-burlington",
   "metadata": {},
   "source": [
    "-----------------------------------------------------------------------------------------------------"
   ]
  },
  {
   "cell_type": "markdown",
   "id": "naked-dating",
   "metadata": {},
   "source": [
    "### Small network in bnlearn: ASIA"
   ]
  },
  {
   "cell_type": "markdown",
   "id": "chronic-repository",
   "metadata": {},
   "source": [
    "All the network can be found in this link: https://www.bnlearn.com/bnrepository/. I have tried some other large network but none of them are working. I suppose only ASIA and CHILD networks are working. "
   ]
  },
  {
   "cell_type": "markdown",
   "id": "varied-memorial",
   "metadata": {},
   "source": [
    "We analysis the toydataset Asia contained in bnstruct library. This dataset originally appeared in the paper Local Computations with Probabilities on Graphical Structures and Their Application to Expert Systems by S. L. Lauritzen and D. J. Spiegelhalter (1988) and it addresses the following scenario. \n",
    "\n",
    "It investigates possible correlations among the following:\n",
    "- Asia: recent visit to Asia\n",
    "- Tub: tuberculosis\n",
    "- Smoke: smoking\n",
    "- LungCan: lung cancer\n",
    "- Bronch: bronchitis\n",
    "- Either: either lung cancer or bronchitis\n",
    "- X-ray: chest X-ray\n",
    "- Dysp: Shortness-of-breath (dyspnoea)\n",
    "\n"
   ]
  },
  {
   "cell_type": "markdown",
   "id": "dried-demonstration",
   "metadata": {},
   "source": [
    "The number of nodes is equal to 8 and each node has a different cardinality.\n",
    "\n",
    "The structure of our knowledge-base is represented by the below directed graph:"
   ]
  },
  {
   "cell_type": "markdown",
   "id": "partial-reproduction",
   "metadata": {},
   "source": [
    "![image](asia.png)"
   ]
  },
  {
   "cell_type": "code",
   "execution_count": 11,
   "id": "prospective-table",
   "metadata": {},
   "outputs": [
    {
     "data": {
      "text/html": [
       "<table class=\"dataframe\">\n",
       "<caption>A data.table: 6 × 8</caption>\n",
       "<thead>\n",
       "\t<tr><th scope=col>Asia</th><th scope=col>Tubercolosys</th><th scope=col>Smoke</th><th scope=col>LungCancer</th><th scope=col>Bronchitis</th><th scope=col>Either</th><th scope=col>X-ray</th><th scope=col>Dyspnea</th></tr>\n",
       "\t<tr><th scope=col>&lt;dbl&gt;</th><th scope=col>&lt;dbl&gt;</th><th scope=col>&lt;dbl&gt;</th><th scope=col>&lt;dbl&gt;</th><th scope=col>&lt;dbl&gt;</th><th scope=col>&lt;dbl&gt;</th><th scope=col>&lt;dbl&gt;</th><th scope=col>&lt;dbl&gt;</th></tr>\n",
       "</thead>\n",
       "<tbody>\n",
       "\t<tr><td>1</td><td>1</td><td>0</td><td>0</td><td>0</td><td>1</td><td>0</td><td>1</td></tr>\n",
       "\t<tr><td>1</td><td>0</td><td>0</td><td>0</td><td>0</td><td>0</td><td>1</td><td>0</td></tr>\n",
       "\t<tr><td>0</td><td>0</td><td>1</td><td>0</td><td>0</td><td>0</td><td>1</td><td>0</td></tr>\n",
       "\t<tr><td>1</td><td>0</td><td>1</td><td>0</td><td>0</td><td>0</td><td>1</td><td>0</td></tr>\n",
       "\t<tr><td>1</td><td>0</td><td>1</td><td>0</td><td>0</td><td>0</td><td>0</td><td>1</td></tr>\n",
       "\t<tr><td>1</td><td>0</td><td>1</td><td>0</td><td>0</td><td>0</td><td>1</td><td>1</td></tr>\n",
       "</tbody>\n",
       "</table>\n"
      ],
      "text/latex": [
       "A data.table: 6 × 8\n",
       "\\begin{tabular}{llllllll}\n",
       " Asia & Tubercolosys & Smoke & LungCancer & Bronchitis & Either & X-ray & Dyspnea\\\\\n",
       " <dbl> & <dbl> & <dbl> & <dbl> & <dbl> & <dbl> & <dbl> & <dbl>\\\\\n",
       "\\hline\n",
       "\t 1 & 1 & 0 & 0 & 0 & 1 & 0 & 1\\\\\n",
       "\t 1 & 0 & 0 & 0 & 0 & 0 & 1 & 0\\\\\n",
       "\t 0 & 0 & 1 & 0 & 0 & 0 & 1 & 0\\\\\n",
       "\t 1 & 0 & 1 & 0 & 0 & 0 & 1 & 0\\\\\n",
       "\t 1 & 0 & 1 & 0 & 0 & 0 & 0 & 1\\\\\n",
       "\t 1 & 0 & 1 & 0 & 0 & 0 & 1 & 1\\\\\n",
       "\\end{tabular}\n"
      ],
      "text/markdown": [
       "\n",
       "A data.table: 6 × 8\n",
       "\n",
       "| Asia &lt;dbl&gt; | Tubercolosys &lt;dbl&gt; | Smoke &lt;dbl&gt; | LungCancer &lt;dbl&gt; | Bronchitis &lt;dbl&gt; | Either &lt;dbl&gt; | X-ray &lt;dbl&gt; | Dyspnea &lt;dbl&gt; |\n",
       "|---|---|---|---|---|---|---|---|\n",
       "| 1 | 1 | 0 | 0 | 0 | 1 | 0 | 1 |\n",
       "| 1 | 0 | 0 | 0 | 0 | 0 | 1 | 0 |\n",
       "| 0 | 0 | 1 | 0 | 0 | 0 | 1 | 0 |\n",
       "| 1 | 0 | 1 | 0 | 0 | 0 | 1 | 0 |\n",
       "| 1 | 0 | 1 | 0 | 0 | 0 | 0 | 1 |\n",
       "| 1 | 0 | 1 | 0 | 0 | 0 | 1 | 1 |\n",
       "\n"
      ],
      "text/plain": [
       "  Asia Tubercolosys Smoke LungCancer Bronchitis Either X-ray Dyspnea\n",
       "1 1    1            0     0          0          1      0     1      \n",
       "2 1    0            0     0          0          0      1     0      \n",
       "3 0    0            1     0          0          0      1     0      \n",
       "4 1    0            1     0          0          0      1     0      \n",
       "5 1    0            1     0          0          0      0     1      \n",
       "6 1    0            1     0          0          0      1     1      "
      ]
     },
     "metadata": {},
     "output_type": "display_data"
    },
    {
     "name": "stdout",
     "output_type": "stream",
     "text": [
      "r_i:\n",
      "\n",
      " 2 2 2 2 2 2 2 2"
     ]
    }
   ],
   "source": [
    "data <- asia()\n",
    "data <- as.data.frame(data@raw.data)\n",
    "data <- data %>% sapply(as.integer) %>% data.table\n",
    "data <- data - 1\n",
    "\n",
    "nodes <- c('Asia', 'Tubercolosys', 'Smoke', 'LungCancer', 'Bronchitis', 'Either', 'X-ray', 'Dyspnea')\n",
    "colnames(data) <- nodes\n",
    "level <- c(1,2,1,2,3,3,4,4)\n",
    "head(data)\n",
    "\n",
    "upbound <- 2\n",
    "r_i <- r(data)\n",
    "cat('r_i:\\n\\n',r_i)"
   ]
  },
  {
   "cell_type": "code",
   "execution_count": 12,
   "id": "widespread-ratio",
   "metadata": {},
   "outputs": [
    {
     "name": "stdout",
     "output_type": "stream",
     "text": [
      "Node:\t Asia , Parents of: Asia \t  :pi  1 = Ø \n",
      "Node:\t Tubercolosys , Parents of: Tubercolosys \t  :pi  2 = Asia \n",
      "Node:\t Smoke , Parents of: Smoke \t  :pi  3 = Ø \n",
      "Node:\t LungCancer , Parents of: LungCancer \t  :pi  4 = Ø \n",
      "Node:\t Bronchitis , Parents of: Bronchitis \t  :pi  5 = LungCancer \n",
      "Node:\t Either , Parents of: Either \t  :pi  6 = LungCancer Tubercolosys \n",
      "Node:\t X-ray , Parents of: X-ray \t  :pi  7 = Either \n",
      "Node:\t Dyspnea , Parents of: Dyspnea \t  :pi  8 = Either Smoke \n",
      "------------------------------------------------------------------------------------\n",
      "K2 algorithm takes: 1.344401 sec \n"
     ]
    }
   ],
   "source": [
    "start.time <- Sys.time()\n",
    "level <- c(1,2,1,2,3,3,4,4)\n",
    "adj   <- K2(nodes, level, upbound, data)\n",
    "end.time <- Sys.time()\n",
    "cat(\"------------------------------------------------------------------------------------\\n\")\n",
    "cat(\"K2 algorithm takes:\",end.time - start.time,\"sec \\n\")"
   ]
  },
  {
   "cell_type": "code",
   "execution_count": 13,
   "id": "multiple-freeze",
   "metadata": {},
   "outputs": [
    {
     "data": {
      "image/png": "[encoded data removed]",
      "text/plain": [
       "plot without title"
      ]
     },
     "metadata": {
      "image/png": {
       "height": 300,
       "width": 420
      }
     },
     "output_type": "display_data"
    }
   ],
   "source": [
    "options(repr.plot.width=7, repr.plot.height=5)\n",
    "plotGraph(adj, 16, 3, title='Asia dataset: K2 implementation')"
   ]
  },
  {
   "cell_type": "markdown",
   "id": "antique-edmonton",
   "metadata": {},
   "source": [
    "`BNstruct`"
   ]
  },
  {
   "cell_type": "code",
   "execution_count": 14,
   "id": "mobile-bones",
   "metadata": {},
   "outputs": [
    {
     "name": "stdout",
     "output_type": "stream",
     "text": [
      "'data.frame':\t10000 obs. of  8 variables:\n",
      " $ Asia        : num  2 2 1 2 2 2 2 2 2 2 ...\n",
      " $ Tubercolosys: num  2 1 1 1 1 1 1 1 1 1 ...\n",
      " $ Smoke       : num  1 1 2 2 2 2 2 2 2 2 ...\n",
      " $ LungCancer  : num  1 1 1 1 1 1 1 1 1 1 ...\n",
      " $ Bronchitis  : num  1 1 1 1 1 1 1 1 1 1 ...\n",
      " $ Either      : num  2 1 1 1 1 1 1 1 1 1 ...\n",
      " $ X-ray       : num  1 2 2 2 1 2 2 1 1 2 ...\n",
      " $ Dyspnea     : num  2 1 1 1 2 2 2 2 2 1 ...\n"
     ]
    }
   ],
   "source": [
    "df <- asia() # load it as BNDataset\n",
    "df.bnlearn <- as.data.frame(raw.data(df))\n",
    "cols <- variables(df)\n",
    "colnames(df.bnlearn) <- cols\n",
    "str(df.bnlearn)"
   ]
  },
  {
   "cell_type": "markdown",
   "id": "multiple-comfort",
   "metadata": {},
   "source": [
    "We try to learn the Asia database by employing all the possible algorithms and scoring functions provided in the package. In order to obtain more faithful results, the maximum number of parents is set to 2 and the layers of the nodes, i.e. their hierarchy, are given as input."
   ]
  },
  {
   "cell_type": "markdown",
   "id": "worse-merit",
   "metadata": {},
   "source": [
    "Network learning"
   ]
  },
  {
   "cell_type": "code",
   "execution_count": 15,
   "id": "fundamental-serbia",
   "metadata": {},
   "outputs": [
    {
     "name": "stderr",
     "output_type": "stream",
     "text": [
      "bnstruct :: learning the structure using MMHC ...\n",
      "\n",
      "bnstruct :: learning using MMHC completed.\n",
      "\n",
      "bnstruct :: learning network parameters ... \n",
      "\n",
      "bnstruct :: parameter learning done.\n",
      "\n",
      "bnstruct :: MMPC uses 'max.fanin', but apparently you set 'max.parents', changing accordingly.\n",
      "\n",
      "bnstruct :: learning the structure using MMPC ...\n",
      "\n",
      "bnstruct :: learning using MMPC completed.\n",
      "\n",
      "bnstruct :: HC uses 'max.fanin' and 'layer.struct' parameters, but apparently you set 'max.parents' and 'max.parents.layers', changing accordingly.\n",
      "\n",
      "bnstruct :: learning the structure using HC ...\n",
      "\n",
      "bnstruct :: learning using HC completed.\n",
      "\n",
      "bnstruct :: learning network parameters ... \n",
      "\n",
      "bnstruct :: parameter learning done.\n",
      "\n",
      "bnstruct :: HC uses 'max.fanin' and 'layer.struct' parameters, but apparently you set 'max.parents' and 'max.parents.layers', changing accordingly.\n",
      "\n",
      "bnstruct :: learning the structure using HC ...\n",
      "\n",
      "bnstruct :: learning using HC completed.\n",
      "\n",
      "bnstruct :: learning network parameters ... \n",
      "\n",
      "bnstruct :: parameter learning done.\n",
      "\n",
      "bnstruct :: HC uses 'max.fanin' and 'layer.struct' parameters, but apparently you set 'max.parents' and 'max.parents.layers', changing accordingly.\n",
      "\n",
      "bnstruct :: learning the structure using HC ...\n",
      "\n",
      "bnstruct :: learning using HC completed.\n",
      "\n",
      "bnstruct :: learning network parameters ... \n",
      "\n",
      "bnstruct :: parameter learning done.\n",
      "\n",
      "bnstruct :: learning the structure using SM ...\n",
      "\n",
      "bnstruct :: learning using SM completed.\n",
      "\n",
      "bnstruct :: learning network parameters ... \n",
      "\n",
      "bnstruct :: parameter learning done.\n",
      "\n"
     ]
    }
   ],
   "source": [
    "net.1 <- learn.network(df, max.parents = 2, layering = level,\n",
    "                       algo = \"mmhc\") # Max Min Hill Climbing (default)\n",
    "\n",
    "net.2 <- learn.network(df, max.parents = 2, layering = level,\n",
    "                       algo = \"mmpc\") # Max-Min Parent-and-Children \n",
    "\n",
    "net.3 <- learn.network(df, max.parents = 2, layering = level,\n",
    "                       algo = \"hc\",   # Hill Climbing\n",
    "                       scoring.func = \"BDeu\") # Bayesian-Dirichlet equivalent uniform (default)\n",
    "\n",
    "net.4 <- learn.network(df, max.parents = 2, layering = level,\n",
    "                       algo = \"hc\",   # Hill Climbing\n",
    "                       scoring.func = \"AIC\") # Akaike Information Criterion\n",
    "\n",
    "net.5 <- learn.network(df, max.parents = 2, layering = level,\n",
    "                       algo = \"hc\",   # Hill Climbing\n",
    "                       scoring.func = \"BIC\") # Bayesian Information Criterion\n",
    "\n",
    "net.6 <- learn.network(df, max.parents = 2, layering = level,\n",
    "                       algo = \"sm\",   #  Silander-Myllymaki (exact search-and-score algorithm)\n",
    "                        )"
   ]
  },
  {
   "cell_type": "code",
   "execution_count": 16,
   "id": "miniature-clock",
   "metadata": {},
   "outputs": [
    {
     "data": {
      "image/png": "[encoded data removed]",
      "text/plain": [
       "plot without title"
      ]
     },
     "metadata": {
      "image/png": {
       "height": 600,
       "width": 600
      }
     },
     "output_type": "display_data"
    }
   ],
   "source": [
    "par(mfrow = c(3,2)) \n",
    "options(repr.plot.width=10, repr.plot.height=10)\n",
    "for (i in c(net.1,net.2,net.3,net.4,net.5,net.6)){\n",
    "    plot(i)\n",
    "    box(which = \"figure\")\n",
    "}"
   ]
  },
  {
   "cell_type": "markdown",
   "id": "rough-theory",
   "metadata": {},
   "source": [
    "We can see 3 algorithms (the default Hill Climbing with BDeu or AIC and the Silander-Myllymaki exact search-and-score algorithm) are close to the result. "
   ]
  },
  {
   "cell_type": "markdown",
   "id": "democratic-namibia",
   "metadata": {},
   "source": [
    "We improve the Silander-Myllymaki exact search-and-score algorithm to compare with our network. "
   ]
  },
  {
   "cell_type": "code",
   "execution_count": 17,
   "id": "previous-catalog",
   "metadata": {},
   "outputs": [
    {
     "name": "stderr",
     "output_type": "stream",
     "text": [
      "bnstruct :: Generating bootstrap samples ...\n",
      "\n",
      "bnstruct :: Bootstrap samples generated.\n",
      "\n",
      "bnstruct :: learning the structure using SM ...\n",
      "\n",
      "bnstruct :: learning using SM completed.\n",
      "\n"
     ]
    }
   ],
   "source": [
    "bn.boot <- bootstrap(df, num.boots = 300)\n",
    "net.bnstruct <- learn.network(bn.boot, bootstrap = TRUE, max.parents = 2, layering = level, algo = \"sm\")"
   ]
  },
  {
   "cell_type": "markdown",
   "id": "awful-governor",
   "metadata": {},
   "source": [
    "`BNlearn`"
   ]
  },
  {
   "cell_type": "markdown",
   "id": "republican-strap",
   "metadata": {},
   "source": [
    "Learn the network structure"
   ]
  },
  {
   "cell_type": "code",
   "execution_count": 18,
   "id": "adaptive-enemy",
   "metadata": {},
   "outputs": [
    {
     "name": "stderr",
     "output_type": "stream",
     "text": [
      "ERROR while rich displaying an object: Error in matrix(c(x$d, x$pi, x$sigma, x$rho), ncol = 1): 'data' must be of a vector type, was 'NULL'\n",
      "\n",
      "Traceback:\n",
      "1. FUN(X[[i]], ...)\n",
      "2. tryCatch(withCallingHandlers({\n",
      " .     if (!mime %in% names(repr::mime2repr)) \n",
      " .         stop(\"No repr_* for mimetype \", mime, \" in repr::mime2repr\")\n",
      " .     rpr <- repr::mime2repr[[mime]](obj)\n",
      " .     if (is.null(rpr)) \n",
      " .         return(NULL)\n",
      " .     prepare_content(is.raw(rpr), rpr)\n",
      " . }, error = error_handler), error = outer_handler)\n",
      "3. tryCatchList(expr, classes, parentenv, handlers)\n",
      "4. tryCatchOne(expr, names, parentenv, handlers[[1L]])\n",
      "5. doTryCatch(return(expr), name, parentenv, handler)\n",
      "6. withCallingHandlers({\n",
      " .     if (!mime %in% names(repr::mime2repr)) \n",
      " .         stop(\"No repr_* for mimetype \", mime, \" in repr::mime2repr\")\n",
      " .     rpr <- repr::mime2repr[[mime]](obj)\n",
      " .     if (is.null(rpr)) \n",
      " .         return(NULL)\n",
      " .     prepare_content(is.raw(rpr), rpr)\n",
      " . }, error = error_handler)\n",
      "7. repr::mime2repr[[mime]](obj)\n",
      "8. repr_text.default(obj)\n",
      "9. paste(capture.output(print(obj)), collapse = \"\\n\")\n",
      "10. capture.output(print(obj))\n",
      "11. withVisible(...elt(i))\n",
      "12. print(obj)\n",
      "13. print.bn(obj)\n",
      "14. matrix(c(x$d, x$pi, x$sigma, x$rho), ncol = 1)\n"
     ]
    }
   ],
   "source": [
    "bn.k2 <- hc(df.bnlearn) \n",
    "bn.k2"
   ]
  },
  {
   "cell_type": "code",
   "execution_count": 19,
   "id": "recent-wyoming",
   "metadata": {},
   "outputs": [
    {
     "data": {
      "image/png": "[encoded data removed]",
      "text/plain": [
       "plot without title"
      ]
     },
     "metadata": {
      "image/png": {
       "height": 600,
       "width": 600
      }
     },
     "output_type": "display_data"
    }
   ],
   "source": [
    "graphviz.plot(hc(df.bnlearn))"
   ]
  },
  {
   "cell_type": "markdown",
   "id": "specified-emission",
   "metadata": {},
   "source": [
    "Compare our network with the Bnlearn and Bnstruct network"
   ]
  },
  {
   "cell_type": "code",
   "execution_count": 20,
   "id": "combined-blade",
   "metadata": {},
   "outputs": [
    {
     "data": {
      "image/png": "[encoded data removed]",
      "text/plain": [
       "plot without title"
      ]
     },
     "metadata": {
      "image/png": {
       "height": 420,
       "width": 480
      }
     },
     "output_type": "display_data"
    },
    {
     "data": {
      "image/png": "[encoded data removed]",
      "text/plain": [
       "Plot with title \"Bnlearn K2 implementation\""
      ]
     },
     "metadata": {
      "image/png": {
       "height": 420,
       "width": 480
      }
     },
     "output_type": "display_data"
    }
   ],
   "source": [
    "par(mfrow=c(1,3))\n",
    "options(repr.plot.width=8, repr.plot.height=7)\n",
    "plotGraph(adj, 16, 3, title='Our K2 implementation')\n",
    "plot(net.bnstruct)\n",
    "title(\"Bnstruct K2 implementation\", line = 3.4)\n",
    "graphviz.plot(hc(df.bnlearn))\n",
    "title(\"Bnlearn K2 implementation\", line = 3.4)"
   ]
  },
  {
   "cell_type": "markdown",
   "id": "geographic-pasta",
   "metadata": {},
   "source": [
    "----------------------------------------------------------------------------------------------------------------------------"
   ]
  },
  {
   "cell_type": "markdown",
   "id": "architectural-plastic",
   "metadata": {},
   "source": [
    "### Medium bnlearn network: CHILD"
   ]
  },
  {
   "cell_type": "markdown",
   "id": "fuzzy-marker",
   "metadata": {},
   "source": [
    "We now concentrate on the toy dataset Child, contained in the bnstruct library. It investigates the incidence and presentation of  possible diseases that would lead to a blue baby.\n",
    "\n",
    "The node Disease includes six possible conditions, assumed mutually exclusive and exhaustive, that lead to particularly 'blue' babies. The graph represents, for example, that the level of oxygen in the lower body (LowerBodyO2) is directly related to the underlying level when breathing oxygen (HypoxiaInO2) and whether the hypoxia is equally distributed around the body (HypDistrib).\n",
    "\n"
   ]
  },
  {
   "cell_type": "markdown",
   "id": "positive-candle",
   "metadata": {},
   "source": [
    "The number of nodes is equal to 20 and each node has a different cardinality.\n",
    "\n",
    "As for what concerns the ordering of the nodes, it is taken from the image below:"
   ]
  },
  {
   "cell_type": "markdown",
   "id": "aggregate-holmes",
   "metadata": {},
   "source": [
    "![image](child.png)"
   ]
  },
  {
   "cell_type": "code",
   "execution_count": 21,
   "id": "collective-evidence",
   "metadata": {},
   "outputs": [
    {
     "name": "stderr",
     "output_type": "stream",
     "text": [
      "bnstruct :: performing imputation ...\n",
      "\n",
      "bnstruct :: imputation finished.\n",
      "\n"
     ]
    },
    {
     "data": {
      "text/html": [
       "<table class=\"dataframe\">\n",
       "<caption>A data.table: 6 × 20</caption>\n",
       "<thead>\n",
       "\t<tr><th scope=col>BirthAsphysia</th><th scope=col>Disease</th><th scope=col>Age</th><th scope=col>LVH</th><th scope=col>DuctFlow</th><th scope=col>CardiacMixing</th><th scope=col>LungParench</th><th scope=col>LungFlow</th><th scope=col>Sick</th><th scope=col>HypDistrib</th><th scope=col>Hypoxialn2</th><th scope=col>CO2</th><th scope=col>ChestXray</th><th scope=col>Grunting</th><th scope=col>LVHreport</th><th scope=col>LowewrBodyO2</th><th scope=col>RUQO2</th><th scope=col>CO2report</th><th scope=col>XrayReport</th><th scope=col>GuntingReport</th></tr>\n",
       "\t<tr><th scope=col>&lt;dbl&gt;</th><th scope=col>&lt;dbl&gt;</th><th scope=col>&lt;dbl&gt;</th><th scope=col>&lt;dbl&gt;</th><th scope=col>&lt;dbl&gt;</th><th scope=col>&lt;dbl&gt;</th><th scope=col>&lt;dbl&gt;</th><th scope=col>&lt;dbl&gt;</th><th scope=col>&lt;dbl&gt;</th><th scope=col>&lt;dbl&gt;</th><th scope=col>&lt;dbl&gt;</th><th scope=col>&lt;dbl&gt;</th><th scope=col>&lt;dbl&gt;</th><th scope=col>&lt;dbl&gt;</th><th scope=col>&lt;dbl&gt;</th><th scope=col>&lt;dbl&gt;</th><th scope=col>&lt;dbl&gt;</th><th scope=col>&lt;dbl&gt;</th><th scope=col>&lt;dbl&gt;</th><th scope=col>&lt;dbl&gt;</th></tr>\n",
       "</thead>\n",
       "<tbody>\n",
       "\t<tr><td>1</td><td>2</td><td>2</td><td>1</td><td>0</td><td>2</td><td>0</td><td>0</td><td>1</td><td>0</td><td>0</td><td>0</td><td>0</td><td>1</td><td>1</td><td>1</td><td>2</td><td>1</td><td>0</td><td>1</td></tr>\n",
       "\t<tr><td>1</td><td>3</td><td>1</td><td>0</td><td>0</td><td>1</td><td>0</td><td>1</td><td>1</td><td>0</td><td>1</td><td>0</td><td>1</td><td>1</td><td>0</td><td>1</td><td>1</td><td>0</td><td>1</td><td>1</td></tr>\n",
       "\t<tr><td>1</td><td>2</td><td>0</td><td>1</td><td>0</td><td>2</td><td>0</td><td>1</td><td>1</td><td>0</td><td>1</td><td>1</td><td>1</td><td>1</td><td>1</td><td>0</td><td>1</td><td>0</td><td>1</td><td>1</td></tr>\n",
       "\t<tr><td>1</td><td>3</td><td>0</td><td>0</td><td>0</td><td>2</td><td>0</td><td>0</td><td>1</td><td>0</td><td>2</td><td>0</td><td>0</td><td>1</td><td>0</td><td>2</td><td>0</td><td>0</td><td>0</td><td>1</td></tr>\n",
       "\t<tr><td>1</td><td>1</td><td>0</td><td>1</td><td>1</td><td>3</td><td>0</td><td>0</td><td>0</td><td>0</td><td>2</td><td>0</td><td>0</td><td>1</td><td>1</td><td>0</td><td>0</td><td>0</td><td>1</td><td>1</td></tr>\n",
       "\t<tr><td>1</td><td>1</td><td>0</td><td>1</td><td>0</td><td>3</td><td>0</td><td>2</td><td>1</td><td>0</td><td>2</td><td>0</td><td>2</td><td>1</td><td>1</td><td>1</td><td>0</td><td>0</td><td>2</td><td>1</td></tr>\n",
       "</tbody>\n",
       "</table>\n"
      ],
      "text/latex": [
       "A data.table: 6 × 20\n",
       "\\begin{tabular}{llllllllllllllllllll}\n",
       " BirthAsphysia & Disease & Age & LVH & DuctFlow & CardiacMixing & LungParench & LungFlow & Sick & HypDistrib & Hypoxialn2 & CO2 & ChestXray & Grunting & LVHreport & LowewrBodyO2 & RUQO2 & CO2report & XrayReport & GuntingReport\\\\\n",
       " <dbl> & <dbl> & <dbl> & <dbl> & <dbl> & <dbl> & <dbl> & <dbl> & <dbl> & <dbl> & <dbl> & <dbl> & <dbl> & <dbl> & <dbl> & <dbl> & <dbl> & <dbl> & <dbl> & <dbl>\\\\\n",
       "\\hline\n",
       "\t 1 & 2 & 2 & 1 & 0 & 2 & 0 & 0 & 1 & 0 & 0 & 0 & 0 & 1 & 1 & 1 & 2 & 1 & 0 & 1\\\\\n",
       "\t 1 & 3 & 1 & 0 & 0 & 1 & 0 & 1 & 1 & 0 & 1 & 0 & 1 & 1 & 0 & 1 & 1 & 0 & 1 & 1\\\\\n",
       "\t 1 & 2 & 0 & 1 & 0 & 2 & 0 & 1 & 1 & 0 & 1 & 1 & 1 & 1 & 1 & 0 & 1 & 0 & 1 & 1\\\\\n",
       "\t 1 & 3 & 0 & 0 & 0 & 2 & 0 & 0 & 1 & 0 & 2 & 0 & 0 & 1 & 0 & 2 & 0 & 0 & 0 & 1\\\\\n",
       "\t 1 & 1 & 0 & 1 & 1 & 3 & 0 & 0 & 0 & 0 & 2 & 0 & 0 & 1 & 1 & 0 & 0 & 0 & 1 & 1\\\\\n",
       "\t 1 & 1 & 0 & 1 & 0 & 3 & 0 & 2 & 1 & 0 & 2 & 0 & 2 & 1 & 1 & 1 & 0 & 0 & 2 & 1\\\\\n",
       "\\end{tabular}\n"
      ],
      "text/markdown": [
       "\n",
       "A data.table: 6 × 20\n",
       "\n",
       "| BirthAsphysia &lt;dbl&gt; | Disease &lt;dbl&gt; | Age &lt;dbl&gt; | LVH &lt;dbl&gt; | DuctFlow &lt;dbl&gt; | CardiacMixing &lt;dbl&gt; | LungParench &lt;dbl&gt; | LungFlow &lt;dbl&gt; | Sick &lt;dbl&gt; | HypDistrib &lt;dbl&gt; | Hypoxialn2 &lt;dbl&gt; | CO2 &lt;dbl&gt; | ChestXray &lt;dbl&gt; | Grunting &lt;dbl&gt; | LVHreport &lt;dbl&gt; | LowewrBodyO2 &lt;dbl&gt; | RUQO2 &lt;dbl&gt; | CO2report &lt;dbl&gt; | XrayReport &lt;dbl&gt; | GuntingReport &lt;dbl&gt; |\n",
       "|---|---|---|---|---|---|---|---|---|---|---|---|---|---|---|---|---|---|---|---|\n",
       "| 1 | 2 | 2 | 1 | 0 | 2 | 0 | 0 | 1 | 0 | 0 | 0 | 0 | 1 | 1 | 1 | 2 | 1 | 0 | 1 |\n",
       "| 1 | 3 | 1 | 0 | 0 | 1 | 0 | 1 | 1 | 0 | 1 | 0 | 1 | 1 | 0 | 1 | 1 | 0 | 1 | 1 |\n",
       "| 1 | 2 | 0 | 1 | 0 | 2 | 0 | 1 | 1 | 0 | 1 | 1 | 1 | 1 | 1 | 0 | 1 | 0 | 1 | 1 |\n",
       "| 1 | 3 | 0 | 0 | 0 | 2 | 0 | 0 | 1 | 0 | 2 | 0 | 0 | 1 | 0 | 2 | 0 | 0 | 0 | 1 |\n",
       "| 1 | 1 | 0 | 1 | 1 | 3 | 0 | 0 | 0 | 0 | 2 | 0 | 0 | 1 | 1 | 0 | 0 | 0 | 1 | 1 |\n",
       "| 1 | 1 | 0 | 1 | 0 | 3 | 0 | 2 | 1 | 0 | 2 | 0 | 2 | 1 | 1 | 1 | 0 | 0 | 2 | 1 |\n",
       "\n"
      ],
      "text/plain": [
       "  BirthAsphysia Disease Age LVH DuctFlow CardiacMixing LungParench LungFlow\n",
       "1 1             2       2   1   0        2             0           0       \n",
       "2 1             3       1   0   0        1             0           1       \n",
       "3 1             2       0   1   0        2             0           1       \n",
       "4 1             3       0   0   0        2             0           0       \n",
       "5 1             1       0   1   1        3             0           0       \n",
       "6 1             1       0   1   0        3             0           2       \n",
       "  Sick HypDistrib Hypoxialn2 CO2 ChestXray Grunting LVHreport LowewrBodyO2\n",
       "1 1    0          0          0   0         1        1         1           \n",
       "2 1    0          1          0   1         1        0         1           \n",
       "3 1    0          1          1   1         1        1         0           \n",
       "4 1    0          2          0   0         1        0         2           \n",
       "5 0    0          2          0   0         1        1         0           \n",
       "6 1    0          2          0   2         1        1         1           \n",
       "  RUQO2 CO2report XrayReport GuntingReport\n",
       "1 2     1         0          1            \n",
       "2 1     0         1          1            \n",
       "3 1     0         1          1            \n",
       "4 0     0         0          1            \n",
       "5 0     0         1          1            \n",
       "6 0     0         2          1            "
      ]
     },
     "metadata": {},
     "output_type": "display_data"
    },
    {
     "name": "stdout",
     "output_type": "stream",
     "text": [
      "r_i:\n",
      "\n",
      " 2 6 3 2 3 4 3 3 2 2 3 3 5 2 2 3 3 2 5 2"
     ]
    }
   ],
   "source": [
    "df <- child()\n",
    "data <- child()\n",
    "data <- bnstruct::impute(data)\n",
    "data <- as.data.frame(data@imputed.data)\n",
    "data <- data %>% sapply(as.integer) %>% data.table\n",
    "data <- data - 1\n",
    "\n",
    "nodes <- c('BirthAsphysia', 'Disease', 'Age', 'LVH', 'DuctFlow', 'CardiacMixing', 'LungParench', 'LungFlow', 'Sick', 'HypDistrib',\n",
    "           'Hypoxialn2', 'CO2', 'ChestXray', 'Grunting', 'LVHreport', 'LowewrBodyO2', 'RUQO2', 'CO2report', 'XrayReport', 'GuntingReport')\n",
    "colnames(data) <- nodes\n",
    "level <- c(1,2,4,3,3,3,3,3,3,4,4,4,4,4,4,5,5,5,5,5)\n",
    "head(data)\n",
    "\n",
    "upbound <- 2\n",
    "r_i <- r(data)\n",
    "cat('r_i:\\n\\n',r_i)"
   ]
  },
  {
   "cell_type": "code",
   "execution_count": 22,
   "id": "enclosed-evaluation",
   "metadata": {},
   "outputs": [
    {
     "name": "stdout",
     "output_type": "stream",
     "text": [
      "Node:\t BirthAsphysia , Parents of: BirthAsphysia \t  :pi  1 = Ø \n",
      "Node:\t Disease , Parents of: Disease \t  :pi  2 = BirthAsphysia \n",
      "Node:\t Age , Parents of: Age \t  :pi  3 = Sick Disease \n",
      "Node:\t LVH , Parents of: LVH \t  :pi  4 = Disease \n",
      "Node:\t DuctFlow , Parents of: DuctFlow \t  :pi  5 = Disease \n",
      "Node:\t CardiacMixing , Parents of: CardiacMixing \t  :pi  6 = Disease \n",
      "Node:\t LungParench , Parents of: LungParench \t  :pi  7 = Disease \n",
      "Node:\t LungFlow , Parents of: LungFlow \t  :pi  8 = Disease \n",
      "Node:\t Sick , Parents of: Sick \t  :pi  9 = Disease \n",
      "Node:\t HypDistrib , Parents of: HypDistrib \t  :pi  10 = CardiacMixing DuctFlow \n",
      "Node:\t Hypoxialn2 , Parents of: Hypoxialn2 \t  :pi  11 = LungParench CardiacMixing \n",
      "Node:\t CO2 , Parents of: CO2 \t  :pi  12 = LungParench \n",
      "Node:\t ChestXray , Parents of: ChestXray \t  :pi  13 = LungParench LungFlow \n",
      "Node:\t Grunting , Parents of: Grunting \t  :pi  14 = Sick LungParench \n",
      "Node:\t LVHreport , Parents of: LVHreport \t  :pi  15 = Disease LVH \n",
      "Node:\t LowewrBodyO2 , Parents of: LowewrBodyO2 \t  :pi  16 = HypDistrib Hypoxialn2 \n",
      "Node:\t RUQO2 , Parents of: RUQO2 \t  :pi  17 = Hypoxialn2 \n",
      "Node:\t CO2report , Parents of: CO2report \t  :pi  18 = CO2 \n",
      "Node:\t XrayReport , Parents of: XrayReport \t  :pi  19 = ChestXray \n",
      "Node:\t GuntingReport , Parents of: GuntingReport \t  :pi  20 = Grunting \n",
      "-----------------------------------------------------------------------------------\n",
      "K2 algorithm takes: 6.218393 sec \n"
     ]
    }
   ],
   "source": [
    "start.time <- Sys.time()\n",
    "level <-  c(1,2,4,3,3,3,3,3,3,4,4,4,4,4,4,5,5,5,5,5)\n",
    "adj   <- K2(nodes, level, upbound, data)\n",
    "end.time <- Sys.time()\n",
    "cat(\"-----------------------------------------------------------------------------------\\n\")\n",
    "cat(\"K2 algorithm takes:\",end.time - start.time,\"sec \\n\")"
   ]
  },
  {
   "cell_type": "code",
   "execution_count": 23,
   "id": "unique-heather",
   "metadata": {},
   "outputs": [
    {
     "data": {
      "image/png": "[encoded data removed]",
      "text/plain": [
       "plot without title"
      ]
     },
     "metadata": {
      "image/png": {
       "height": 360,
       "width": 480
      }
     },
     "output_type": "display_data"
    }
   ],
   "source": [
    "options(repr.plot.width=8, repr.plot.height=6)\n",
    "plotGraph(adj, 16, 3, title='Child dataset:K2 implementation')"
   ]
  },
  {
   "cell_type": "markdown",
   "id": "steady-banking",
   "metadata": {},
   "source": [
    "`BNstruct`"
   ]
  },
  {
   "cell_type": "code",
   "execution_count": 24,
   "id": "british-bench",
   "metadata": {},
   "outputs": [
    {
     "name": "stdout",
     "output_type": "stream",
     "text": [
      "'data.frame':\t162 obs. of  20 variables:\n",
      " $ BirthAsphyxia : num  2 2 1 2 2 2 2 1 1 2 ...\n",
      " $ Disease       : num  3 4 2 2 3 2 2 3 2 3 ...\n",
      " $ Age           : num  2 1 3 1 2 1 1 3 1 1 ...\n",
      " $ LVH           : num  2 1 2 2 2 2 2 2 2 2 ...\n",
      " $ DuctFlow      : num  1 1 2 2 1 2 2 1 2 1 ...\n",
      " $ CardiacMixing : num  3 3 4 1 3 4 3 3 3 3 ...\n",
      " $ LungParench   : num  1 1 1 1 1 3 2 1 1 1 ...\n",
      " $ LungFlow      : num  2 3 3 3 2 3 3 2 3 2 ...\n",
      " $ Sick          : num  2 1 2 2 2 2 2 2 2 2 ...\n",
      " $ HypDistrib    : num  1 1 1 1 1 1 1 1 1 1 ...\n",
      " $ HypoxiaInO2   : num  2 2 3 1 3 3 3 2 2 3 ...\n",
      " $ CO2           : num  1 2 1 1 1 3 1 1 1 2 ...\n",
      " $ ChestXray     : num  2 3 3 3 1 4 3 3 3 2 ...\n",
      " $ Grunting      : num  2 2 2 2 1 1 2 2 2 2 ...\n",
      " $ LVHReport     : num  2 1 2 2 2 2 2 2 2 2 ...\n",
      " $ LowerBodyO2   : num  2 1 1 2 2 1 3 2 1 2 ...\n",
      " $ RUQO2         : num  3 1 2 3 2 2 3 2 1 1 ...\n",
      " $ CO2Report     : num  1 1 2 1 1 2 1 1 1 1 ...\n",
      " $ XrayReport    : num  2 3 1 1 1 4 3 2 5 1 ...\n",
      " $ GruntingReport: num  2 2 2 2 1 1 2 1 2 2 ...\n",
      " - attr(*, \"na.action\")= 'omit' Named int [1:4838] 1 2 3 4 5 6 7 8 9 10 ...\n",
      "  ..- attr(*, \"names\")= chr [1:4838] \"1\" \"2\" \"3\" \"4\" ...\n"
     ]
    }
   ],
   "source": [
    "df.bnlearn <- as.data.frame(raw.data(df))\n",
    "cols <- variables(df)\n",
    "colnames(df.bnlearn) <- cols\n",
    "df.bnlearn<−na.omit(df.bnlearn)\n",
    "str(df.bnlearn)"
   ]
  },
  {
   "cell_type": "markdown",
   "id": "forbidden-deficit",
   "metadata": {},
   "source": [
    "Learning the network"
   ]
  },
  {
   "cell_type": "code",
   "execution_count": 25,
   "id": "noted-sphere",
   "metadata": {},
   "outputs": [
    {
     "name": "stderr",
     "output_type": "stream",
     "text": [
      "bnstruct :: learning the structure using MMHC ...\n",
      "\n",
      "bnstruct :: learning using MMHC completed.\n",
      "\n",
      "bnstruct :: learning network parameters ... \n",
      "\n",
      "bnstruct :: parameter learning done.\n",
      "\n",
      "bnstruct :: MMPC uses 'max.fanin', but apparently you set 'max.parents', changing accordingly.\n",
      "\n",
      "bnstruct :: learning the structure using MMPC ...\n",
      "\n",
      "bnstruct :: learning using MMPC completed.\n",
      "\n",
      "bnstruct :: learning the structure using SM ...\n",
      "\n",
      "bnstruct :: learning using SM completed.\n",
      "\n",
      "bnstruct :: learning network parameters ... \n",
      "\n",
      "bnstruct :: parameter learning done.\n",
      "\n"
     ]
    }
   ],
   "source": [
    "net.1 <- learn.network(df, max.parents = 2, layering = level,\n",
    "                       algo = \"mmhc\") # Max Min Hill Climbing (default)\n",
    "net.2 <- learn.network(df, max.parents = 2, layering = level,\n",
    "                       algo = \"mmpc\") # Max-Min Parent-and-Children \n",
    "#net.3 <- learn.network(df, max.parents = 3, layering = level,\n",
    "#                       algo = \"hc\",   # Hill Climbing\n",
    "#                       scoring.func = \"BDeu\") # Bayesian-Dirichlet equivalent uniform (default)\n",
    "#net.4 <- learn.network(df, max.parents = 3, layering = level,\n",
    "#                       algo = \"hc\",   # Hill Climbing\n",
    "#                       scoring.func = \"AIC\") # Akaike Information Criterion\n",
    "#net.5 <- learn.network(df, max.parents = 3, layering = level,\n",
    "#                       algo = \"hc\",   # Hill Climbing\n",
    "#                       scoring.func = \"BIC\") # Bayesian Information Criterion\n",
    "net.6 <- learn.network(df, max.parents = 2, layering = level,\n",
    "                       algo = \"sm\",   #  Silander-Myllymaki (exact search-and-score algorithm)\n",
    "                        )"
   ]
  },
  {
   "cell_type": "code",
   "execution_count": 26,
   "id": "convertible-compiler",
   "metadata": {},
   "outputs": [
    {
     "data": {
      "image/png": "[encoded data removed]",
      "text/plain": [
       "plot without title"
      ]
     },
     "metadata": {
      "image/png": {
       "height": 600,
       "width": 900
      }
     },
     "output_type": "display_data"
    }
   ],
   "source": [
    "par(mfrow = c(1,3))\n",
    "options(repr.plot.width=15, repr.plot.height=10)\n",
    "for (i in c(net.1,net.2,net.6)){\n",
    "    plot(i)\n",
    "    box(which = \"figure\")\n",
    "}"
   ]
  },
  {
   "cell_type": "code",
   "execution_count": 27,
   "id": "endangered-hawaii",
   "metadata": {
    "scrolled": true
   },
   "outputs": [
    {
     "name": "stderr",
     "output_type": "stream",
     "text": [
      "bnstruct :: Generating bootstrap samples ...\n",
      "\n",
      "bnstruct :: Bootstrap samples generated.\n",
      "\n",
      "bnstruct :: learning the structure using MMHC ...\n",
      "\n",
      "bnstruct :: learning using MMHC completed.\n",
      "\n"
     ]
    }
   ],
   "source": [
    "bn.boot <- bootstrap(df, num.boots = 1)\n",
    "net.bnstruct <- learn.network(bn.boot, bootstrap = TRUE, max.parents = 2, layering = level, algo = \"mmhc\")\n"
   ]
  },
  {
   "cell_type": "markdown",
   "id": "soviet-scale",
   "metadata": {},
   "source": [
    "`BNlearn`"
   ]
  },
  {
   "cell_type": "code",
   "execution_count": 28,
   "id": "afraid-pepper",
   "metadata": {
    "scrolled": true
   },
   "outputs": [
    {
     "name": "stderr",
     "output_type": "stream",
     "text": [
      "ERROR while rich displaying an object: Error in matrix(c(x$d, x$pi, x$sigma, x$rho), ncol = 1): 'data' must be of a vector type, was 'NULL'\n",
      "\n",
      "Traceback:\n",
      "1. FUN(X[[i]], ...)\n",
      "2. tryCatch(withCallingHandlers({\n",
      " .     if (!mime %in% names(repr::mime2repr)) \n",
      " .         stop(\"No repr_* for mimetype \", mime, \" in repr::mime2repr\")\n",
      " .     rpr <- repr::mime2repr[[mime]](obj)\n",
      " .     if (is.null(rpr)) \n",
      " .         return(NULL)\n",
      " .     prepare_content(is.raw(rpr), rpr)\n",
      " . }, error = error_handler), error = outer_handler)\n",
      "3. tryCatchList(expr, classes, parentenv, handlers)\n",
      "4. tryCatchOne(expr, names, parentenv, handlers[[1L]])\n",
      "5. doTryCatch(return(expr), name, parentenv, handler)\n",
      "6. withCallingHandlers({\n",
      " .     if (!mime %in% names(repr::mime2repr)) \n",
      " .         stop(\"No repr_* for mimetype \", mime, \" in repr::mime2repr\")\n",
      " .     rpr <- repr::mime2repr[[mime]](obj)\n",
      " .     if (is.null(rpr)) \n",
      " .         return(NULL)\n",
      " .     prepare_content(is.raw(rpr), rpr)\n",
      " . }, error = error_handler)\n",
      "7. repr::mime2repr[[mime]](obj)\n",
      "8. repr_text.default(obj)\n",
      "9. paste(capture.output(print(obj)), collapse = \"\\n\")\n",
      "10. capture.output(print(obj))\n",
      "11. withVisible(...elt(i))\n",
      "12. print(obj)\n",
      "13. print.bn(obj)\n",
      "14. matrix(c(x$d, x$pi, x$sigma, x$rho), ncol = 1)\n"
     ]
    }
   ],
   "source": [
    "bn.k2 <- hc(df.bnlearn) \n",
    "bn.k2"
   ]
  },
  {
   "cell_type": "code",
   "execution_count": 29,
   "id": "spatial-configuration",
   "metadata": {},
   "outputs": [
    {
     "data": {
      "image/png": "[encoded data removed]",
      "text/plain": [
       "plot without title"
      ]
     },
     "metadata": {
      "image/png": {
       "height": 600,
       "width": 900
      }
     },
     "output_type": "display_data"
    }
   ],
   "source": [
    "graphviz.plot(bn.k2)"
   ]
  },
  {
   "cell_type": "markdown",
   "id": "another-footage",
   "metadata": {},
   "source": [
    "Compare our network with the Bnlearn and Bnstruct network."
   ]
  },
  {
   "cell_type": "code",
   "execution_count": 30,
   "id": "social-mission",
   "metadata": {
    "scrolled": false
   },
   "outputs": [
    {
     "data": {
      "image/png": "[encoded data removed]",
      "text/plain": [
       "plot without title"
      ]
     },
     "metadata": {
      "image/png": {
       "height": 420,
       "width": 480
      }
     },
     "output_type": "display_data"
    },
    {
     "data": {
      "image/png": "[encoded data removed]",
      "text/plain": [
       "Plot with title \"Bnlearn K2 implementation\""
      ]
     },
     "metadata": {
      "image/png": {
       "height": 420,
       "width": 480
      }
     },
     "output_type": "display_data"
    }
   ],
   "source": [
    "par(mfrow=c(1,3))\n",
    "options(repr.plot.width=8, repr.plot.height=7)\n",
    "plotGraph(adj, 20, 3, title='Our K2 implementation')\n",
    "plot(net.bnstruct)\n",
    "title(\"Bnstruct K2 implementation\", line = 3.4)\n",
    "graphviz.plot(hc(df.bnlearn))\n",
    "title(\"Bnlearn K2 implementation\", line = 3.4)"
   ]
  },
  {
   "cell_type": "markdown",
   "id": "opening-compatibility",
   "metadata": {},
   "source": [
    "Our implementation of the K2 algorithm correctly predicts the example dataset used in Ruiz. The results for the bigger dataset Asia or Child do not perfectly match the real solution but still neither bnlearn and bnstruct packages methods do. \n",
    "\n"
   ]
  },
  {
   "cell_type": "markdown",
   "id": "requested-appraisal",
   "metadata": {},
   "source": [
    "-----------------------------------------------------------------------------------------------------------------------------"
   ]
  },
  {
   "cell_type": "markdown",
   "id": "large-lesbian",
   "metadata": {},
   "source": [
    "## Implementing K2 algorithm inside bnstruct R package"
   ]
  },
  {
   "cell_type": "markdown",
   "id": "failing-insight",
   "metadata": {},
   "source": [
    "To implement the K2 algorithm inside a package, we can modify the download `bnstruct` package which is downloaded from CRAN repository. We will use __RStudio__ to construct the code inside `bnstruct` package. All relavent files are contained in R folder. With __RStudio__ open and modify the corresponding file, add the modify function and save them under the same name. Download the `devtools` library(`install.packages(\"devtools\")`) and run it (`library('devtools')`). We will use the build function to create a single bundled `.tar` file from this updated package folder. We can use: `build(pkg='path1/package', path='~path2/package_new.tar', manual=FALSE, binary=FALSE)`. where path1 navigates to the place of the updated package folder and path2 says where the bundled package shall be stored. Install the updated package archive file in RStudio via. Finally, we can install the modified package `install.packages('~path2/package_name_new.tar', repos = NULL, type='source')`\n",
    "\n",
    "\n",
    "\n"
   ]
  }
 ],
 "metadata": {
  "kernelspec": {
   "display_name": "R",
   "language": "R",
   "name": "ir"
  },
  "language_info": {
   "codemirror_mode": "r",
   "file_extension": ".r",
   "mimetype": "text/x-r-source",
   "name": "R",
   "pygments_lexer": "r",
   "version": "4.1.2"
  }
 },
 "nbformat": 4,
 "nbformat_minor": 5
}
